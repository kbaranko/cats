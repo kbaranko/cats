{
 "cells": [
  {
   "cell_type": "code",
   "execution_count": 57,
   "metadata": {},
   "outputs": [],
   "source": [
    "import pandas as pd \n",
    "from pandas import ExcelWriter\n",
    "from pandas import ExcelFile\n",
    "import config\n",
    "db_name = 'emissions_modelling' \n",
    "import seaborn as sns\n",
    "import matplotlib\n",
    "import numpy as np\n",
    "import statsmodels.api as sm\n",
    "from statsmodels.formula.api import ols"
   ]
  },
  {
   "cell_type": "code",
   "execution_count": 58,
   "metadata": {},
   "outputs": [],
   "source": [
    "df_net = pd.read_excel('Individuals_Internet_2000-2018_Jun2019.xls')\n",
    "df_net = df_net[['Unnamed: 0', 'Unnamed: 17']]\n",
    "df_net.rename(columns = {'Unnamed: 0':'country', 'Unnamed: 17': 'internet_percent_pop'}, inplace = True)\n",
    "df_net = df_net[1:]\n",
    "df_net = df_net.dropna(axis=0, how='any', thresh=None, subset=None, inplace=False)"
   ]
  },
  {
   "cell_type": "code",
   "execution_count": 59,
   "metadata": {
    "scrolled": true
   },
   "outputs": [
    {
     "data": {
      "text/html": [
       "<div>\n",
       "<style scoped>\n",
       "    .dataframe tbody tr th:only-of-type {\n",
       "        vertical-align: middle;\n",
       "    }\n",
       "\n",
       "    .dataframe tbody tr th {\n",
       "        vertical-align: top;\n",
       "    }\n",
       "\n",
       "    .dataframe thead th {\n",
       "        text-align: right;\n",
       "    }\n",
       "</style>\n",
       "<table border=\"1\" class=\"dataframe\">\n",
       "  <thead>\n",
       "    <tr style=\"text-align: right;\">\n",
       "      <th></th>\n",
       "      <th>country</th>\n",
       "      <th>internet_percent_pop</th>\n",
       "    </tr>\n",
       "  </thead>\n",
       "  <tbody>\n",
       "    <tr>\n",
       "      <td>1</td>\n",
       "      <td>Afghanistan</td>\n",
       "      <td>11.200000</td>\n",
       "    </tr>\n",
       "    <tr>\n",
       "      <td>2</td>\n",
       "      <td>Albania</td>\n",
       "      <td>66.363445</td>\n",
       "    </tr>\n",
       "    <tr>\n",
       "      <td>3</td>\n",
       "      <td>Algeria</td>\n",
       "      <td>42.945527</td>\n",
       "    </tr>\n",
       "    <tr>\n",
       "      <td>5</td>\n",
       "      <td>Andorra</td>\n",
       "      <td>97.930637</td>\n",
       "    </tr>\n",
       "    <tr>\n",
       "      <td>6</td>\n",
       "      <td>Angola</td>\n",
       "      <td>13.000000</td>\n",
       "    </tr>\n",
       "  </tbody>\n",
       "</table>\n",
       "</div>"
      ],
      "text/plain": [
       "       country  internet_percent_pop\n",
       "1  Afghanistan             11.200000\n",
       "2      Albania             66.363445\n",
       "3      Algeria             42.945527\n",
       "5      Andorra             97.930637\n",
       "6       Angola             13.000000"
      ]
     },
     "execution_count": 59,
     "metadata": {},
     "output_type": "execute_result"
    }
   ],
   "source": [
    "df_net.head()"
   ]
  },
  {
   "cell_type": "code",
   "execution_count": 60,
   "metadata": {
    "scrolled": true
   },
   "outputs": [
    {
     "data": {
      "text/plain": [
       "<matplotlib.axes._subplots.AxesSubplot at 0x1c223b3240>"
      ]
     },
     "execution_count": 60,
     "metadata": {},
     "output_type": "execute_result"
    },
    {
     "data": {
      "image/png": "[encoded data removed]",
      "text/plain": [
       "<Figure size 432x288 with 1 Axes>"
      ]
     },
     "metadata": {
      "needs_background": "light"
     },
     "output_type": "display_data"
    }
   ],
   "source": [
    "sns.distplot(df_net['internet_percent_pop'], bins = 50)"
   ]
  },
  {
   "cell_type": "code",
   "execution_count": 61,
   "metadata": {},
   "outputs": [
    {
     "data": {
      "text/plain": [
       "235"
      ]
     },
     "execution_count": 61,
     "metadata": {},
     "output_type": "execute_result"
    }
   ],
   "source": [
    "df_biz = pd.read_excel('API_IC.REG.COST.PC.ZS_DS2_en_excel_v2_323055.xls')\n",
    "df_biz = df_biz[['Data Source', 'Unnamed: 60']]\n",
    "df_biz.rename(columns = {'Data Source':'country', 'Unnamed: 60': 'cost_of_biz'}, inplace = True)\n",
    "df_biz = df_biz[3:]\n",
    "df_biz = df_biz.dropna(axis=0, how='any', thresh=None, subset=None, inplace=False)\n",
    "len(df_biz)"
   ]
  },
  {
   "cell_type": "code",
   "execution_count": 62,
   "metadata": {},
   "outputs": [
    {
     "data": {
      "text/html": [
       "<div>\n",
       "<style scoped>\n",
       "    .dataframe tbody tr th:only-of-type {\n",
       "        vertical-align: middle;\n",
       "    }\n",
       "\n",
       "    .dataframe tbody tr th {\n",
       "        vertical-align: top;\n",
       "    }\n",
       "\n",
       "    .dataframe thead th {\n",
       "        text-align: right;\n",
       "    }\n",
       "</style>\n",
       "<table border=\"1\" class=\"dataframe\">\n",
       "  <thead>\n",
       "    <tr style=\"text-align: right;\">\n",
       "      <th></th>\n",
       "      <th>country</th>\n",
       "      <th>cost_of_biz</th>\n",
       "    </tr>\n",
       "  </thead>\n",
       "  <tbody>\n",
       "    <tr>\n",
       "      <td>4</td>\n",
       "      <td>Afghanistan</td>\n",
       "      <td>19.900000</td>\n",
       "    </tr>\n",
       "    <tr>\n",
       "      <td>5</td>\n",
       "      <td>Angola</td>\n",
       "      <td>20.700000</td>\n",
       "    </tr>\n",
       "    <tr>\n",
       "      <td>6</td>\n",
       "      <td>Albania</td>\n",
       "      <td>12.500000</td>\n",
       "    </tr>\n",
       "    <tr>\n",
       "      <td>8</td>\n",
       "      <td>Arab World</td>\n",
       "      <td>38.163636</td>\n",
       "    </tr>\n",
       "    <tr>\n",
       "      <td>9</td>\n",
       "      <td>United Arab Emirates</td>\n",
       "      <td>13.000000</td>\n",
       "    </tr>\n",
       "  </tbody>\n",
       "</table>\n",
       "</div>"
      ],
      "text/plain": [
       "                country  cost_of_biz\n",
       "4           Afghanistan    19.900000\n",
       "5                Angola    20.700000\n",
       "6               Albania    12.500000\n",
       "8            Arab World    38.163636\n",
       "9  United Arab Emirates    13.000000"
      ]
     },
     "execution_count": 62,
     "metadata": {},
     "output_type": "execute_result"
    }
   ],
   "source": [
    "df_biz.head()"
   ]
  },
  {
   "cell_type": "code",
   "execution_count": 63,
   "metadata": {},
   "outputs": [],
   "source": [
    "df_nrg = pd.read_excel('API_EG.USE.COMM.CL.ZS_DS2_en_excel_v2_327403.xls')\n",
    "df_nrg = df_nrg[['Data Source', 'Unnamed: 58']]\n",
    "df_nrg.rename(columns = {'Data Source':'country', 'Unnamed: 58': 'perc_renewable_energy'}, inplace = True)\n",
    "df_nrg = df_nrg[3:]\n",
    "df_nrg = df_nrg.dropna(axis=0, how='any', thresh=None, subset=None, inplace=False)"
   ]
  },
  {
   "cell_type": "code",
   "execution_count": 64,
   "metadata": {},
   "outputs": [
    {
     "data": {
      "text/html": [
       "<div>\n",
       "<style scoped>\n",
       "    .dataframe tbody tr th:only-of-type {\n",
       "        vertical-align: middle;\n",
       "    }\n",
       "\n",
       "    .dataframe tbody tr th {\n",
       "        vertical-align: top;\n",
       "    }\n",
       "\n",
       "    .dataframe thead th {\n",
       "        text-align: right;\n",
       "    }\n",
       "</style>\n",
       "<table border=\"1\" class=\"dataframe\">\n",
       "  <thead>\n",
       "    <tr style=\"text-align: right;\">\n",
       "      <th></th>\n",
       "      <th>country</th>\n",
       "      <th>perc_renewable_energy</th>\n",
       "    </tr>\n",
       "  </thead>\n",
       "  <tbody>\n",
       "    <tr>\n",
       "      <td>5</td>\n",
       "      <td>Angola</td>\n",
       "      <td>2.548840</td>\n",
       "    </tr>\n",
       "    <tr>\n",
       "      <td>6</td>\n",
       "      <td>Albania</td>\n",
       "      <td>24.548050</td>\n",
       "    </tr>\n",
       "    <tr>\n",
       "      <td>8</td>\n",
       "      <td>Arab World</td>\n",
       "      <td>0.414413</td>\n",
       "    </tr>\n",
       "    <tr>\n",
       "      <td>9</td>\n",
       "      <td>United Arab Emirates</td>\n",
       "      <td>0.096907</td>\n",
       "    </tr>\n",
       "    <tr>\n",
       "      <td>10</td>\n",
       "      <td>Argentina</td>\n",
       "      <td>5.501504</td>\n",
       "    </tr>\n",
       "  </tbody>\n",
       "</table>\n",
       "</div>"
      ],
      "text/plain": [
       "                 country  perc_renewable_energy\n",
       "5                 Angola               2.548840\n",
       "6                Albania              24.548050\n",
       "8             Arab World               0.414413\n",
       "9   United Arab Emirates               0.096907\n",
       "10             Argentina               5.501504"
      ]
     },
     "execution_count": 64,
     "metadata": {},
     "output_type": "execute_result"
    }
   ],
   "source": [
    "df_nrg.head()"
   ]
  },
  {
   "cell_type": "code",
   "execution_count": 65,
   "metadata": {},
   "outputs": [],
   "source": [
    "df = pd.read_csv('thurs_data.csv')"
   ]
  },
  {
   "cell_type": "code",
   "execution_count": 66,
   "metadata": {},
   "outputs": [
    {
     "data": {
      "text/plain": [
       "115"
      ]
     },
     "execution_count": 66,
     "metadata": {},
     "output_type": "execute_result"
    }
   ],
   "source": [
    "len(df)"
   ]
  },
  {
   "cell_type": "code",
   "execution_count": 67,
   "metadata": {},
   "outputs": [],
   "source": [
    "df = df.merge(df_net, how='inner', on='country')\n",
    "df = df.merge(df_biz, how='inner', on='country')\n",
    "df = df.merge(df_nrg, how='inner', on='country')"
   ]
  },
  {
   "cell_type": "code",
   "execution_count": 68,
   "metadata": {},
   "outputs": [
    {
     "data": {
      "text/plain": [
       "113"
      ]
     },
     "execution_count": 68,
     "metadata": {},
     "output_type": "execute_result"
    }
   ],
   "source": [
    "len(df)"
   ]
  },
  {
   "cell_type": "code",
   "execution_count": 69,
   "metadata": {
    "scrolled": true
   },
   "outputs": [
    {
     "data": {
      "text/plain": [
       "Index(['Unnamed: 0', 'country', 'gdp_usd', 'population', 'CPI', 'rank',\n",
       "       'GI_risk', 'co2_mmt', 'gdp_capita', 'regulatory_quality',\n",
       "       'political_stability', 'accountability', 'rule_of_law',\n",
       "       'co2_mmt_capita', 'co2_kg_capita', 'GDP_Ag_and_Forest', 'petro_income',\n",
       "       'resource_income', 'co2_dollar', 'co2_kg_dollar', 'meat_milk_tn',\n",
       "       'energy_value', 'internet_percent_pop', 'cost_of_biz',\n",
       "       'perc_renewable_energy'],\n",
       "      dtype='object')"
      ]
     },
     "execution_count": 69,
     "metadata": {},
     "output_type": "execute_result"
    }
   ],
   "source": [
    "df.columns"
   ]
  },
  {
   "cell_type": "markdown",
   "metadata": {},
   "source": [
    "Select independent variables for second model predicting co2 emissions per dollar of GDP."
   ]
  },
  {
   "cell_type": "code",
   "execution_count": 70,
   "metadata": {},
   "outputs": [],
   "source": [
    "df_model = df[['co2_kg_dollar', 'internet_percent_pop', 'GDP_Ag_and_Forest', 'perc_renewable_energy']]"
   ]
  },
  {
   "cell_type": "markdown",
   "metadata": {},
   "source": [
    "Normalize non-normal independent variables via log transformations."
   ]
  },
  {
   "cell_type": "code",
   "execution_count": 71,
   "metadata": {},
   "outputs": [
    {
     "name": "stderr",
     "output_type": "stream",
     "text": [
      "/Users/kylebaranko/anaconda3/lib/python3.7/site-packages/ipykernel_launcher.py:1: SettingWithCopyWarning: \n",
      "A value is trying to be set on a copy of a slice from a DataFrame.\n",
      "Try using .loc[row_indexer,col_indexer] = value instead\n",
      "\n",
      "See the caveats in the documentation: http://pandas.pydata.org/pandas-docs/stable/user_guide/indexing.html#returning-a-view-versus-a-copy\n",
      "  \"\"\"Entry point for launching an IPython kernel.\n",
      "/Users/kylebaranko/anaconda3/lib/python3.7/site-packages/ipykernel_launcher.py:2: SettingWithCopyWarning: \n",
      "A value is trying to be set on a copy of a slice from a DataFrame.\n",
      "Try using .loc[row_indexer,col_indexer] = value instead\n",
      "\n",
      "See the caveats in the documentation: http://pandas.pydata.org/pandas-docs/stable/user_guide/indexing.html#returning-a-view-versus-a-copy\n",
      "  \n"
     ]
    }
   ],
   "source": [
    "df_model['GDP_Ag_and_Forest'] = np.log(df_model['GDP_Ag_and_Forest'] + 1)\n",
    "df_model['perc_renewable_energy'] = np.log(df_model['perc_renewable_energy'] + 1)"
   ]
  },
  {
   "cell_type": "code",
   "execution_count": 72,
   "metadata": {},
   "outputs": [],
   "source": [
    "x_cols = ['GDP_Ag_and_Forest', 'perc_renewable_energy', 'internet_percent_pop']"
   ]
  },
  {
   "cell_type": "code",
   "execution_count": 73,
   "metadata": {
    "scrolled": true
   },
   "outputs": [
    {
     "data": {
      "image/png": "[encoded data removed]",
      "text/plain": [
       "<Figure size 720x864 with 9 Axes>"
      ]
     },
     "metadata": {
      "needs_background": "light"
     },
     "output_type": "display_data"
    }
   ],
   "source": [
    "pd.plotting.scatter_matrix(df_model[x_cols], figsize=(10,12));\n",
    "\n"
   ]
  },
  {
   "cell_type": "code",
   "execution_count": 74,
   "metadata": {},
   "outputs": [
    {
     "data": {
      "text/html": [
       "<div>\n",
       "<style scoped>\n",
       "    .dataframe tbody tr th:only-of-type {\n",
       "        vertical-align: middle;\n",
       "    }\n",
       "\n",
       "    .dataframe tbody tr th {\n",
       "        vertical-align: top;\n",
       "    }\n",
       "\n",
       "    .dataframe thead th {\n",
       "        text-align: right;\n",
       "    }\n",
       "</style>\n",
       "<table border=\"1\" class=\"dataframe\">\n",
       "  <thead>\n",
       "    <tr style=\"text-align: right;\">\n",
       "      <th></th>\n",
       "      <th>co2_kg_dollar</th>\n",
       "      <th>internet_percent_pop</th>\n",
       "      <th>GDP_Ag_and_Forest</th>\n",
       "      <th>perc_renewable_energy</th>\n",
       "    </tr>\n",
       "  </thead>\n",
       "  <tbody>\n",
       "    <tr>\n",
       "      <td>co2_kg_dollar</td>\n",
       "      <td>1.000000</td>\n",
       "      <td>0.130521</td>\n",
       "      <td>-0.170392</td>\n",
       "      <td>-0.217682</td>\n",
       "    </tr>\n",
       "    <tr>\n",
       "      <td>internet_percent_pop</td>\n",
       "      <td>0.130521</td>\n",
       "      <td>1.000000</td>\n",
       "      <td>-0.843380</td>\n",
       "      <td>0.207353</td>\n",
       "    </tr>\n",
       "    <tr>\n",
       "      <td>GDP_Ag_and_Forest</td>\n",
       "      <td>-0.170392</td>\n",
       "      <td>-0.843380</td>\n",
       "      <td>1.000000</td>\n",
       "      <td>-0.033256</td>\n",
       "    </tr>\n",
       "    <tr>\n",
       "      <td>perc_renewable_energy</td>\n",
       "      <td>-0.217682</td>\n",
       "      <td>0.207353</td>\n",
       "      <td>-0.033256</td>\n",
       "      <td>1.000000</td>\n",
       "    </tr>\n",
       "  </tbody>\n",
       "</table>\n",
       "</div>"
      ],
      "text/plain": [
       "                       co2_kg_dollar  internet_percent_pop  GDP_Ag_and_Forest  \\\n",
       "co2_kg_dollar               1.000000              0.130521          -0.170392   \n",
       "internet_percent_pop        0.130521              1.000000          -0.843380   \n",
       "GDP_Ag_and_Forest          -0.170392             -0.843380           1.000000   \n",
       "perc_renewable_energy      -0.217682              0.207353          -0.033256   \n",
       "\n",
       "                       perc_renewable_energy  \n",
       "co2_kg_dollar                      -0.217682  \n",
       "internet_percent_pop                0.207353  \n",
       "GDP_Ag_and_Forest                  -0.033256  \n",
       "perc_renewable_energy               1.000000  "
      ]
     },
     "execution_count": 74,
     "metadata": {},
     "output_type": "execute_result"
    }
   ],
   "source": [
    "df_model.corr()"
   ]
  },
  {
   "cell_type": "code",
   "execution_count": 75,
   "metadata": {},
   "outputs": [],
   "source": [
    "outcome = 'co2_kg_dollar'\n",
    "predictors = df_model.drop('co2_kg_dollar', axis=1)\n",
    "pred_sum = \"+\".join(predictors.columns)\n",
    "formula = outcome + \"~\" + pred_sum"
   ]
  },
  {
   "cell_type": "code",
   "execution_count": 76,
   "metadata": {
    "scrolled": true
   },
   "outputs": [
    {
     "data": {
      "text/html": [
       "<table class=\"simpletable\">\n",
       "<caption>OLS Regression Results</caption>\n",
       "<tr>\n",
       "  <th>Dep. Variable:</th>      <td>co2_kg_dollar</td>  <th>  R-squared:         </th> <td>   0.082</td>\n",
       "</tr>\n",
       "<tr>\n",
       "  <th>Model:</th>                   <td>OLS</td>       <th>  Adj. R-squared:    </th> <td>   0.057</td>\n",
       "</tr>\n",
       "<tr>\n",
       "  <th>Method:</th>             <td>Least Squares</td>  <th>  F-statistic:       </th> <td>   3.237</td>\n",
       "</tr>\n",
       "<tr>\n",
       "  <th>Date:</th>             <td>Fri, 18 Oct 2019</td> <th>  Prob (F-statistic):</th>  <td>0.0251</td> \n",
       "</tr>\n",
       "<tr>\n",
       "  <th>Time:</th>                 <td>09:21:53</td>     <th>  Log-Likelihood:    </th> <td>  35.449</td>\n",
       "</tr>\n",
       "<tr>\n",
       "  <th>No. Observations:</th>      <td>   113</td>      <th>  AIC:               </th> <td>  -62.90</td>\n",
       "</tr>\n",
       "<tr>\n",
       "  <th>Df Residuals:</th>          <td>   109</td>      <th>  BIC:               </th> <td>  -51.99</td>\n",
       "</tr>\n",
       "<tr>\n",
       "  <th>Df Model:</th>              <td>     3</td>      <th>                     </th>     <td> </td>   \n",
       "</tr>\n",
       "<tr>\n",
       "  <th>Covariance Type:</th>      <td>nonrobust</td>    <th>                     </th>     <td> </td>   \n",
       "</tr>\n",
       "</table>\n",
       "<table class=\"simpletable\">\n",
       "<tr>\n",
       "            <td></td>               <th>coef</th>     <th>std err</th>      <th>t</th>      <th>P>|t|</th>  <th>[0.025</th>    <th>0.975]</th>  \n",
       "</tr>\n",
       "<tr>\n",
       "  <th>Intercept</th>             <td>    0.3629</td> <td>    0.143</td> <td>    2.538</td> <td> 0.013</td> <td>    0.080</td> <td>    0.646</td>\n",
       "</tr>\n",
       "<tr>\n",
       "  <th>internet_percent_pop</th>  <td>    0.0008</td> <td>    0.001</td> <td>    0.579</td> <td> 0.564</td> <td>   -0.002</td> <td>    0.004</td>\n",
       "</tr>\n",
       "<tr>\n",
       "  <th>GDP_Ag_and_Forest</th>     <td>   -0.0196</td> <td>    0.039</td> <td>   -0.507</td> <td> 0.613</td> <td>   -0.096</td> <td>    0.057</td>\n",
       "</tr>\n",
       "<tr>\n",
       "  <th>perc_renewable_energy</th> <td>   -0.0435</td> <td>    0.017</td> <td>   -2.488</td> <td> 0.014</td> <td>   -0.078</td> <td>   -0.009</td>\n",
       "</tr>\n",
       "</table>\n",
       "<table class=\"simpletable\">\n",
       "<tr>\n",
       "  <th>Omnibus:</th>       <td>34.673</td> <th>  Durbin-Watson:     </th> <td>   1.261</td>\n",
       "</tr>\n",
       "<tr>\n",
       "  <th>Prob(Omnibus):</th> <td> 0.000</td> <th>  Jarque-Bera (JB):  </th> <td>  59.236</td>\n",
       "</tr>\n",
       "<tr>\n",
       "  <th>Skew:</th>          <td> 1.372</td> <th>  Prob(JB):          </th> <td>1.37e-13</td>\n",
       "</tr>\n",
       "<tr>\n",
       "  <th>Kurtosis:</th>      <td> 5.247</td> <th>  Cond. No.          </th> <td>    543.</td>\n",
       "</tr>\n",
       "</table><br/><br/>Warnings:<br/>[1] Standard Errors assume that the covariance matrix of the errors is correctly specified."
      ],
      "text/plain": [
       "<class 'statsmodels.iolib.summary.Summary'>\n",
       "\"\"\"\n",
       "                            OLS Regression Results                            \n",
       "==============================================================================\n",
       "Dep. Variable:          co2_kg_dollar   R-squared:                       0.082\n",
       "Model:                            OLS   Adj. R-squared:                  0.057\n",
       "Method:                 Least Squares   F-statistic:                     3.237\n",
       "Date:                Fri, 18 Oct 2019   Prob (F-statistic):             0.0251\n",
       "Time:                        09:21:53   Log-Likelihood:                 35.449\n",
       "No. Observations:                 113   AIC:                            -62.90\n",
       "Df Residuals:                     109   BIC:                            -51.99\n",
       "Df Model:                           3                                         \n",
       "Covariance Type:            nonrobust                                         \n",
       "=========================================================================================\n",
       "                            coef    std err          t      P>|t|      [0.025      0.975]\n",
       "-----------------------------------------------------------------------------------------\n",
       "Intercept                 0.3629      0.143      2.538      0.013       0.080       0.646\n",
       "internet_percent_pop      0.0008      0.001      0.579      0.564      -0.002       0.004\n",
       "GDP_Ag_and_Forest        -0.0196      0.039     -0.507      0.613      -0.096       0.057\n",
       "perc_renewable_energy    -0.0435      0.017     -2.488      0.014      -0.078      -0.009\n",
       "==============================================================================\n",
       "Omnibus:                       34.673   Durbin-Watson:                   1.261\n",
       "Prob(Omnibus):                  0.000   Jarque-Bera (JB):               59.236\n",
       "Skew:                           1.372   Prob(JB):                     1.37e-13\n",
       "Kurtosis:                       5.247   Cond. No.                         543.\n",
       "==============================================================================\n",
       "\n",
       "Warnings:\n",
       "[1] Standard Errors assume that the covariance matrix of the errors is correctly specified.\n",
       "\"\"\""
      ]
     },
     "execution_count": 76,
     "metadata": {},
     "output_type": "execute_result"
    }
   ],
   "source": [
    "model = ols(formula= formula, data=df_model).fit()\n",
    "model.summary()"
   ]
  },
  {
   "cell_type": "markdown",
   "metadata": {},
   "source": [
    "R-squared value is very low, suggesting independent variables have little to no effect on outcome. And with correlation matrix below, it is clear that wealth per capita is not correlated with emissions per dollar of GDP. "
   ]
  },
  {
   "cell_type": "code",
   "execution_count": 77,
   "metadata": {},
   "outputs": [
    {
     "data": {
      "text/html": [
       "<div>\n",
       "<style scoped>\n",
       "    .dataframe tbody tr th:only-of-type {\n",
       "        vertical-align: middle;\n",
       "    }\n",
       "\n",
       "    .dataframe tbody tr th {\n",
       "        vertical-align: top;\n",
       "    }\n",
       "\n",
       "    .dataframe thead th {\n",
       "        text-align: right;\n",
       "    }\n",
       "</style>\n",
       "<table border=\"1\" class=\"dataframe\">\n",
       "  <thead>\n",
       "    <tr style=\"text-align: right;\">\n",
       "      <th></th>\n",
       "      <th>gdp_capita</th>\n",
       "      <th>co2_kg_dollar</th>\n",
       "    </tr>\n",
       "  </thead>\n",
       "  <tbody>\n",
       "    <tr>\n",
       "      <td>gdp_capita</td>\n",
       "      <td>1.000000</td>\n",
       "      <td>0.050769</td>\n",
       "    </tr>\n",
       "    <tr>\n",
       "      <td>co2_kg_dollar</td>\n",
       "      <td>0.050769</td>\n",
       "      <td>1.000000</td>\n",
       "    </tr>\n",
       "  </tbody>\n",
       "</table>\n",
       "</div>"
      ],
      "text/plain": [
       "               gdp_capita  co2_kg_dollar\n",
       "gdp_capita       1.000000       0.050769\n",
       "co2_kg_dollar    0.050769       1.000000"
      ]
     },
     "execution_count": 77,
     "metadata": {},
     "output_type": "execute_result"
    }
   ],
   "source": [
    "df[['gdp_capita', 'co2_kg_dollar']].corr()"
   ]
  },
  {
   "cell_type": "markdown",
   "metadata": {},
   "source": [
    "Check relationships with percentage of population in a country using internet as dependent variable. "
   ]
  },
  {
   "cell_type": "code",
   "execution_count": 78,
   "metadata": {},
   "outputs": [
    {
     "data": {
      "text/plain": [
       "<matplotlib.axes._subplots.AxesSubplot at 0x1c228d9048>"
      ]
     },
     "execution_count": 78,
     "metadata": {},
     "output_type": "execute_result"
    },
    {
     "data": {
      "image/png": "[encoded data removed]",
      "text/plain": [
       "<Figure size 432x288 with 1 Axes>"
      ]
     },
     "metadata": {
      "needs_background": "light"
     },
     "output_type": "display_data"
    }
   ],
   "source": [
    "sns.scatterplot(x=df['gdp_capita'], y=df['internet_percent_pop'])"
   ]
  },
  {
   "cell_type": "code",
   "execution_count": 79,
   "metadata": {},
   "outputs": [
    {
     "data": {
      "text/plain": [
       "<matplotlib.axes._subplots.AxesSubplot at 0x10d9c6da0>"
      ]
     },
     "execution_count": 79,
     "metadata": {},
     "output_type": "execute_result"
    },
    {
     "data": {
      "image/png": "[encoded data removed]",
      "text/plain": [
       "<Figure size 432x288 with 1 Axes>"
      ]
     },
     "metadata": {
      "needs_background": "light"
     },
     "output_type": "display_data"
    }
   ],
   "source": [
    "sns.scatterplot(x=df['rule_of_law'], y=df['internet_percent_pop'])"
   ]
  },
  {
   "cell_type": "code",
   "execution_count": 80,
   "metadata": {},
   "outputs": [
    {
     "data": {
      "text/plain": [
       "<matplotlib.axes._subplots.AxesSubplot at 0x1c229779e8>"
      ]
     },
     "execution_count": 80,
     "metadata": {},
     "output_type": "execute_result"
    },
    {
     "data": {
      "image/png": "[encoded data removed]",
      "text/plain": [
       "<Figure size 432x288 with 1 Axes>"
      ]
     },
     "metadata": {
      "needs_background": "light"
     },
     "output_type": "display_data"
    }
   ],
   "source": [
    "sns.scatterplot(x=df['GDP_Ag_and_Forest'], y=df['internet_percent_pop'])"
   ]
  },
  {
   "cell_type": "code",
   "execution_count": 81,
   "metadata": {},
   "outputs": [
    {
     "data": {
      "text/plain": [
       "<matplotlib.axes._subplots.AxesSubplot at 0x1c2315b898>"
      ]
     },
     "execution_count": 81,
     "metadata": {},
     "output_type": "execute_result"
    },
    {
     "data": {
      "image/png": "[encoded data removed]",
      "text/plain": [
       "<Figure size 432x288 with 1 Axes>"
      ]
     },
     "metadata": {
      "needs_background": "light"
     },
     "output_type": "display_data"
    }
   ],
   "source": [
    "sns.scatterplot(x=df['cost_of_biz'], y=df['internet_percent_pop'])"
   ]
  },
  {
   "cell_type": "code",
   "execution_count": 96,
   "metadata": {},
   "outputs": [],
   "source": [
    "df_final = df[['internet_percent_pop', 'GDP_Ag_and_Forest', 'accountability', 'cost_of_biz']]\n",
    "xcols = ['GDP_Ag_and_Forest', 'rule_of_law', 'gdp_capita', 'accountability', 'cost_of_biz']\n",
    "               \n",
    "               "
   ]
  },
  {
   "cell_type": "markdown",
   "metadata": {},
   "source": [
    "Normalize indepedent variables with non-normal distributions via log transformations"
   ]
  },
  {
   "cell_type": "code",
   "execution_count": null,
   "metadata": {},
   "outputs": [],
   "source": [
    "df_final[xcols].corr()"
   ]
  },
  {
   "cell_type": "markdown",
   "metadata": {},
   "source": [
    "After checking for collinearity, remove rule_of_law from model becuase it is heavily correlated with gdp per capita and accountability. "
   ]
  },
  {
   "cell_type": "markdown",
   "metadata": {},
   "source": [
    "Normalize indepedent variables with non-normal distributions via log transformations"
   ]
  },
  {
   "cell_type": "code",
   "execution_count": 90,
   "metadata": {},
   "outputs": [
    {
     "name": "stderr",
     "output_type": "stream",
     "text": [
      "/Users/kylebaranko/anaconda3/lib/python3.7/site-packages/ipykernel_launcher.py:1: SettingWithCopyWarning: \n",
      "A value is trying to be set on a copy of a slice from a DataFrame.\n",
      "Try using .loc[row_indexer,col_indexer] = value instead\n",
      "\n",
      "See the caveats in the documentation: http://pandas.pydata.org/pandas-docs/stable/user_guide/indexing.html#returning-a-view-versus-a-copy\n",
      "  \"\"\"Entry point for launching an IPython kernel.\n",
      "/Users/kylebaranko/anaconda3/lib/python3.7/site-packages/ipykernel_launcher.py:2: SettingWithCopyWarning: \n",
      "A value is trying to be set on a copy of a slice from a DataFrame.\n",
      "Try using .loc[row_indexer,col_indexer] = value instead\n",
      "\n",
      "See the caveats in the documentation: http://pandas.pydata.org/pandas-docs/stable/user_guide/indexing.html#returning-a-view-versus-a-copy\n",
      "  \n"
     ]
    }
   ],
   "source": [
    "df_final['GDP_Ag_and_Forest'] = np.log(df_final['GDP_Ag_and_Forest'] + 1)\n",
    "df_final['gdp_capita'] = np.log(df_final['gdp_capita'] + 1)"
   ]
  },
  {
   "cell_type": "code",
   "execution_count": 91,
   "metadata": {},
   "outputs": [
    {
     "data": {
      "text/html": [
       "<div>\n",
       "<style scoped>\n",
       "    .dataframe tbody tr th:only-of-type {\n",
       "        vertical-align: middle;\n",
       "    }\n",
       "\n",
       "    .dataframe tbody tr th {\n",
       "        vertical-align: top;\n",
       "    }\n",
       "\n",
       "    .dataframe thead th {\n",
       "        text-align: right;\n",
       "    }\n",
       "</style>\n",
       "<table border=\"1\" class=\"dataframe\">\n",
       "  <thead>\n",
       "    <tr style=\"text-align: right;\">\n",
       "      <th></th>\n",
       "      <th>GDP_Ag_and_Forest</th>\n",
       "      <th>gdp_capita</th>\n",
       "      <th>accountability</th>\n",
       "      <th>cost_of_biz</th>\n",
       "    </tr>\n",
       "  </thead>\n",
       "  <tbody>\n",
       "    <tr>\n",
       "      <td>GDP_Ag_and_Forest</td>\n",
       "      <td>1.000000</td>\n",
       "      <td>-0.902681</td>\n",
       "      <td>-0.473695</td>\n",
       "      <td>0.493781</td>\n",
       "    </tr>\n",
       "    <tr>\n",
       "      <td>gdp_capita</td>\n",
       "      <td>-0.902681</td>\n",
       "      <td>1.000000</td>\n",
       "      <td>0.374164</td>\n",
       "      <td>-0.585818</td>\n",
       "    </tr>\n",
       "    <tr>\n",
       "      <td>accountability</td>\n",
       "      <td>-0.473695</td>\n",
       "      <td>0.374164</td>\n",
       "      <td>1.000000</td>\n",
       "      <td>-0.105209</td>\n",
       "    </tr>\n",
       "    <tr>\n",
       "      <td>cost_of_biz</td>\n",
       "      <td>0.493781</td>\n",
       "      <td>-0.585818</td>\n",
       "      <td>-0.105209</td>\n",
       "      <td>1.000000</td>\n",
       "    </tr>\n",
       "  </tbody>\n",
       "</table>\n",
       "</div>"
      ],
      "text/plain": [
       "                   GDP_Ag_and_Forest  gdp_capita  accountability  cost_of_biz\n",
       "GDP_Ag_and_Forest           1.000000   -0.902681       -0.473695     0.493781\n",
       "gdp_capita                 -0.902681    1.000000        0.374164    -0.585818\n",
       "accountability             -0.473695    0.374164        1.000000    -0.105209\n",
       "cost_of_biz                 0.493781   -0.585818       -0.105209     1.000000"
      ]
     },
     "execution_count": 91,
     "metadata": {},
     "output_type": "execute_result"
    }
   ],
   "source": [
    "df_final[xcols].corr()"
   ]
  },
  {
   "cell_type": "markdown",
   "metadata": {},
   "source": [
    "After checking for collinearity, remove gdp_per_capita because it is heavily correlated with percentage of GDP attributed to agriculture and forestry. "
   ]
  },
  {
   "cell_type": "code",
   "execution_count": 92,
   "metadata": {},
   "outputs": [],
   "source": [
    "xcols = ['GDP_Ag_and_Forest', 'accountability', 'cost_of_biz']"
   ]
  },
  {
   "cell_type": "code",
   "execution_count": 93,
   "metadata": {},
   "outputs": [
    {
     "data": {
      "text/plain": [
       "array([[<matplotlib.axes._subplots.AxesSubplot object at 0x1c248ce5f8>,\n",
       "        <matplotlib.axes._subplots.AxesSubplot object at 0x1c24906dd8>,\n",
       "        <matplotlib.axes._subplots.AxesSubplot object at 0x1c24af32e8>],\n",
       "       [<matplotlib.axes._subplots.AxesSubplot object at 0x1c24b21898>,\n",
       "        <matplotlib.axes._subplots.AxesSubplot object at 0x1c24b53e48>,\n",
       "        <matplotlib.axes._subplots.AxesSubplot object at 0x1c24b8f438>],\n",
       "       [<matplotlib.axes._subplots.AxesSubplot object at 0x1c24bc29e8>,\n",
       "        <matplotlib.axes._subplots.AxesSubplot object at 0x1c24bf2fd0>,\n",
       "        <matplotlib.axes._subplots.AxesSubplot object at 0x1c24c01048>]],\n",
       "      dtype=object)"
      ]
     },
     "execution_count": 93,
     "metadata": {},
     "output_type": "execute_result"
    },
    {
     "data": {
      "image/png": "[encoded data removed]",
      "text/plain": [
       "<Figure size 720x864 with 9 Axes>"
      ]
     },
     "metadata": {
      "needs_background": "light"
     },
     "output_type": "display_data"
    }
   ],
   "source": [
    "pd.plotting.scatter_matrix(df_final[xcols], figsize=(10,12))"
   ]
  },
  {
   "cell_type": "code",
   "execution_count": 97,
   "metadata": {},
   "outputs": [],
   "source": [
    "outcome = 'internet_percent_pop'\n",
    "predictors = df_final.drop('internet_percent_pop', axis=1)\n",
    "pred_sum = \"+\".join(predictors.columns)\n",
    "formula = outcome + \"~\" + pred_sum"
   ]
  },
  {
   "cell_type": "code",
   "execution_count": 98,
   "metadata": {},
   "outputs": [
    {
     "data": {
      "text/html": [
       "<table class=\"simpletable\">\n",
       "<caption>OLS Regression Results</caption>\n",
       "<tr>\n",
       "  <th>Dep. Variable:</th>    <td>internet_percent_pop</td> <th>  R-squared:         </th> <td>   0.677</td>\n",
       "</tr>\n",
       "<tr>\n",
       "  <th>Model:</th>                     <td>OLS</td>         <th>  Adj. R-squared:    </th> <td>   0.669</td>\n",
       "</tr>\n",
       "<tr>\n",
       "  <th>Method:</th>               <td>Least Squares</td>    <th>  F-statistic:       </th> <td>   76.33</td>\n",
       "</tr>\n",
       "<tr>\n",
       "  <th>Date:</th>               <td>Fri, 18 Oct 2019</td>   <th>  Prob (F-statistic):</th> <td>1.14e-26</td>\n",
       "</tr>\n",
       "<tr>\n",
       "  <th>Time:</th>                   <td>09:51:19</td>       <th>  Log-Likelihood:    </th> <td> -455.09</td>\n",
       "</tr>\n",
       "<tr>\n",
       "  <th>No. Observations:</th>        <td>   113</td>        <th>  AIC:               </th> <td>   918.2</td>\n",
       "</tr>\n",
       "<tr>\n",
       "  <th>Df Residuals:</th>            <td>   109</td>        <th>  BIC:               </th> <td>   929.1</td>\n",
       "</tr>\n",
       "<tr>\n",
       "  <th>Df Model:</th>                <td>     3</td>        <th>                     </th>     <td> </td>   \n",
       "</tr>\n",
       "<tr>\n",
       "  <th>Covariance Type:</th>        <td>nonrobust</td>      <th>                     </th>     <td> </td>   \n",
       "</tr>\n",
       "</table>\n",
       "<table class=\"simpletable\">\n",
       "<tr>\n",
       "          <td></td>             <th>coef</th>     <th>std err</th>      <th>t</th>      <th>P>|t|</th>  <th>[0.025</th>    <th>0.975]</th>  \n",
       "</tr>\n",
       "<tr>\n",
       "  <th>Intercept</th>         <td>   77.0803</td> <td>    1.937</td> <td>   39.786</td> <td> 0.000</td> <td>   73.241</td> <td>   80.920</td>\n",
       "</tr>\n",
       "<tr>\n",
       "  <th>GDP_Ag_and_Forest</th> <td>   -2.0074</td> <td>    0.216</td> <td>   -9.295</td> <td> 0.000</td> <td>   -2.435</td> <td>   -1.579</td>\n",
       "</tr>\n",
       "<tr>\n",
       "  <th>accountability</th>    <td>    3.5963</td> <td>    1.358</td> <td>    2.648</td> <td> 0.009</td> <td>    0.905</td> <td>    6.288</td>\n",
       "</tr>\n",
       "<tr>\n",
       "  <th>cost_of_biz</th>       <td>   -0.1875</td> <td>    0.087</td> <td>   -2.158</td> <td> 0.033</td> <td>   -0.360</td> <td>   -0.015</td>\n",
       "</tr>\n",
       "</table>\n",
       "<table class=\"simpletable\">\n",
       "<tr>\n",
       "  <th>Omnibus:</th>       <td> 3.823</td> <th>  Durbin-Watson:     </th> <td>   1.986</td>\n",
       "</tr>\n",
       "<tr>\n",
       "  <th>Prob(Omnibus):</th> <td> 0.148</td> <th>  Jarque-Bera (JB):  </th> <td>   3.222</td>\n",
       "</tr>\n",
       "<tr>\n",
       "  <th>Skew:</th>          <td>-0.383</td> <th>  Prob(JB):          </th> <td>   0.200</td>\n",
       "</tr>\n",
       "<tr>\n",
       "  <th>Kurtosis:</th>      <td> 3.312</td> <th>  Cond. No.          </th> <td>    36.5</td>\n",
       "</tr>\n",
       "</table><br/><br/>Warnings:<br/>[1] Standard Errors assume that the covariance matrix of the errors is correctly specified."
      ],
      "text/plain": [
       "<class 'statsmodels.iolib.summary.Summary'>\n",
       "\"\"\"\n",
       "                             OLS Regression Results                             \n",
       "================================================================================\n",
       "Dep. Variable:     internet_percent_pop   R-squared:                       0.677\n",
       "Model:                              OLS   Adj. R-squared:                  0.669\n",
       "Method:                   Least Squares   F-statistic:                     76.33\n",
       "Date:                  Fri, 18 Oct 2019   Prob (F-statistic):           1.14e-26\n",
       "Time:                          09:51:19   Log-Likelihood:                -455.09\n",
       "No. Observations:                   113   AIC:                             918.2\n",
       "Df Residuals:                       109   BIC:                             929.1\n",
       "Df Model:                             3                                         \n",
       "Covariance Type:              nonrobust                                         \n",
       "=====================================================================================\n",
       "                        coef    std err          t      P>|t|      [0.025      0.975]\n",
       "-------------------------------------------------------------------------------------\n",
       "Intercept            77.0803      1.937     39.786      0.000      73.241      80.920\n",
       "GDP_Ag_and_Forest    -2.0074      0.216     -9.295      0.000      -2.435      -1.579\n",
       "accountability        3.5963      1.358      2.648      0.009       0.905       6.288\n",
       "cost_of_biz          -0.1875      0.087     -2.158      0.033      -0.360      -0.015\n",
       "==============================================================================\n",
       "Omnibus:                        3.823   Durbin-Watson:                   1.986\n",
       "Prob(Omnibus):                  0.148   Jarque-Bera (JB):                3.222\n",
       "Skew:                          -0.383   Prob(JB):                        0.200\n",
       "Kurtosis:                       3.312   Cond. No.                         36.5\n",
       "==============================================================================\n",
       "\n",
       "Warnings:\n",
       "[1] Standard Errors assume that the covariance matrix of the errors is correctly specified.\n",
       "\"\"\""
      ]
     },
     "execution_count": 98,
     "metadata": {},
     "output_type": "execute_result"
    }
   ],
   "source": [
    "model = ols(formula= formula, data=df_final).fit()\n",
    "model.summary()"
   ]
  },
  {
   "cell_type": "markdown",
   "metadata": {},
   "source": [
    "After removing indepedent variables exhibiting multicolinearity, model R-squared value increases. "
   ]
  },
  {
   "cell_type": "code",
   "execution_count": null,
   "metadata": {},
   "outputs": [],
   "source": []
  }
 ],
 "metadata": {
  "kernelspec": {
   "display_name": "Python 3",
   "language": "python",
   "name": "python3"
  },
  "language_info": {
   "codemirror_mode": {
    "name": "ipython",
    "version": 3
   },
   "file_extension": ".py",
   "mimetype": "text/x-python",
   "name": "python",
   "nbconvert_exporter": "python",
   "pygments_lexer": "ipython3",
   "version": "3.7.3"
  }
 },
 "nbformat": 4,
 "nbformat_minor": 2
}
